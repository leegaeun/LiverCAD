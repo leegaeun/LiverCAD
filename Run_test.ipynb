{
 "cells": [
  {
   "cell_type": "markdown",
   "metadata": {},
   "source": [
    "# Detect using trained weights\n",
    "These codes detect the hepatic malignancy in the liver region of multiphase CT images using the trained weights."
   ]
  },
  {
   "cell_type": "code",
   "execution_count": null,
   "metadata": {},
   "outputs": [],
   "source": [
    "from DataSet_custom import Dataset\n",
    "\n",
    "# dirname: class\n",
    "Dirs = {'HCC': 'Malignant', \n",
    "        'Metastasis': 'Malignant', \n",
    "        'CCC': 'Malignant', \n",
    "        'CHCC-CC': 'Malignant', \n",
    "        'AP-shunt': 'Hyper', \n",
    "        'Hemangioma': 'Hyper', \n",
    "        'DN': 'Hypo',\n",
    "        'Cyst': 'Hypo',\n",
    "        'Fat-spared-liver': 'Hyper',\n",
    "        'FNH': 'Hyper',\n",
    "        'angiomyolipoma': 'Hyper',\n",
    "        'calcification': 'Hyper'}\n",
    "\n",
    "# calss: id\n",
    "Classes = {'Malignant': 1,\n",
    "           'Hyper': 2,\n",
    "           'Hypo': 3}\n",
    "\n",
    "imgPath = \"./data/img\"\n",
    "maskPath = \"./data/label_gt\"\n",
    "\n",
    "dataset_test = Dataset()\n",
    "dataset_test.set_dataset(imgPath+'/artery', maskPath, Dirs, Classes) # Refer to the arterial phase path for the list of files to load."
   ]
  },
  {
   "cell_type": "code",
   "execution_count": null,
   "metadata": {},
   "outputs": [],
   "source": [
    "import os\n",
    "from DataSet_custom import ModelConfig\n",
    "\n",
    "modelPath = \"./weight/MaskRCNN_20190902_230139.hdf5\"\n",
    "taskID = \"20190902_230139\"\n",
    "\n",
    "os.environ[\"CUDA_VISIBLE_DEVICES\"]= '0'\n",
    "savePath = \"./results\"\n",
    "\n",
    "modelConfig = ModelConfig(len(Classes))\n",
    "\n",
    "print (\"Prepared task : \"+taskID)"
   ]
  },
  {
   "cell_type": "code",
   "execution_count": null,
   "metadata": {
    "scrolled": true
   },
   "outputs": [],
   "source": [
    "from MaskRCNNTask import Test_Dataset\n",
    "import warnings\n",
    "\n",
    "print (\"Detection of \"+taskID)\n",
    "\n",
    "ClassList=[]\n",
    "for key in Classes:\n",
    "    ClassList.append(key)\n",
    "    \n",
    "with warnings.catch_warnings():\n",
    "    warnings.simplefilter(\"ignore\")\n",
    "    Test_Dataset(taskID, savePath, ClassList, modelConfig, modelPath, dataset_test, saveFig = True, saveMask = True, IoU_thr = 0.3)"
   ]
  }
 ],
 "metadata": {
  "kernelspec": {
   "display_name": "Python 3",
   "language": "python",
   "name": "python3"
  },
  "language_info": {
   "codemirror_mode": {
    "name": "ipython",
    "version": 3
   },
   "file_extension": ".py",
   "mimetype": "text/x-python",
   "name": "python",
   "nbconvert_exporter": "python",
   "pygments_lexer": "ipython3",
   "version": "3.6.7"
  }
 },
 "nbformat": 4,
 "nbformat_minor": 2
}
